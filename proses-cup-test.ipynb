{
 "cells": [
  {
   "cell_type": "code",
   "execution_count": 3,
   "metadata": {},
   "outputs": [],
   "source": [
    "import cv2\n",
    "import numpy as np\n",
    "image1 = cv2.imread('Bahan-cups-one.png')\n",
    "image2 = cv2.imread('Bahan-cups-three.png')"
   ]
  },
  {
   "cell_type": "code",
   "execution_count": 4,
   "metadata": {},
   "outputs": [],
   "source": [
    "hasil_proses_hitam = np.zeros_like(image1)\n",
    "hasil_proses_terang = np.zeros_like(image1)\n",
    "hasil_pembagian= np.zeros_like(image1)"
   ]
  },
  {
   "cell_type": "code",
   "execution_count": 39,
   "metadata": {},
   "outputs": [],
   "source": [
    "height, width, channels = image1.shape\n",
    "height2, width2, channels2 = image2.shape\n",
    "\n",
    "for y in range(height):\n",
    "    for x in range(width):\n",
    "        # Mengambil nilai BGR untuk setiap piksel\n",
    "        b1, g1, r1 = image1[y, x].astype(np.int32)\n",
    "        b2, g2, r2 = image2[y, x].astype(np.int32)\n",
    "        \n",
    "        red = r1 - r2\n",
    "        green = g1 - g2\n",
    "        blue = b1 - b2\n",
    "\n",
    "        if red > 255:\n",
    "            red = 255\n",
    "        elif red < 0:\n",
    "            red = 0\n",
    "                \n",
    "        if green > 255:\n",
    "            green = 255\n",
    "        elif green < 0:\n",
    "            green = 0\n",
    "                \n",
    "        if blue > 255:\n",
    "            blue = 255\n",
    "        elif blue < 0:\n",
    "            blue = 0\n",
    "            \n",
    "        hasil_proses_hitam[y, x] = [blue, green, red]\n",
    "     "
   ]
  },
  {
   "cell_type": "code",
   "execution_count": 40,
   "metadata": {},
   "outputs": [],
   "source": [
    "cv2.imshow(\"pengurangan citra\", hasil_proses_hitam )\n",
    "cv2.waitKey(0)\n",
    "cv2.destroyAllWindows()"
   ]
  },
  {
   "cell_type": "code",
   "execution_count": 37,
   "metadata": {},
   "outputs": [],
   "source": [
    "height, width, channels = hasil_proses_hitam.shape\n",
    "height2, width2, channels2 = image2.shape\n",
    "\n",
    "for y in range(height):\n",
    "    for x in range(width):\n",
    "        # Mengambil nilai BGR untuk setiap piksel\n",
    "        b1, g1, r1 = image1[y, x].astype(np.int32)\n",
    "        b2, g2, r2 = image2[y, x].astype(np.int32)\n",
    "        \n",
    "        red = r1 + r2\n",
    "        green = g1 + g2\n",
    "        blue = b1 + b2\n",
    "\n",
    "        if red > 255:\n",
    "            red = 255\n",
    "        elif red < 0:\n",
    "            red = 0\n",
    "                \n",
    "        if green > 255:\n",
    "            green = 255\n",
    "        elif green < 0:\n",
    "            green = 0\n",
    "                \n",
    "        if blue > 255:\n",
    "            blue = 255\n",
    "        elif blue < 0:\n",
    "            blue = 0\n",
    "            \n",
    "        hasil_proses_terang[y, x] = [blue, green, red]"
   ]
  },
  {
   "cell_type": "code",
   "execution_count": 38,
   "metadata": {},
   "outputs": [],
   "source": [
    "cv2.imshow(\"pengembalian citra dengan penjumlahan\", hasil_proses_terang )\n",
    "cv2.waitKey(0)\n",
    "cv2.destroyAllWindows()"
   ]
  },
  {
   "cell_type": "code",
   "execution_count": 10,
   "metadata": {},
   "outputs": [],
   "source": [
    "height, width, channels = image1.shape\n",
    "height2, width2, channels2 = image2.shape\n",
    "\n",
    "for y in range(height):\n",
    "    for x in range(width):\n",
    "        # Mengambil nilai BGR untuk setiap piksel\n",
    "        b1, g1, r1 = image1[y, x].astype(np.float32) /255\n",
    "        b2, g2, r2 = image2[y, x].astype(np.float32) /255\n",
    "\n",
    "        red = r1 / r2 if r2 != 0 else r1\n",
    "        green = g1 / g2 if g2 != 0 else g1\n",
    "        blue = b1 / b2 if b2 != 0 else b1\n",
    "\n",
    "        red = red * 255\n",
    "        green = green * 255\n",
    "        blue = blue * 255\n",
    "\n",
    "        if red > 255:\n",
    "            red = 255\n",
    "        elif red < 0:\n",
    "            red = 0\n",
    "                \n",
    "        if green > 255:\n",
    "            green = 255\n",
    "        elif green < 0:\n",
    "            green = 0\n",
    "                \n",
    "        if blue > 255:\n",
    "            blue = 255\n",
    "        elif blue < 0:\n",
    "            blue = 0\n",
    "            \n",
    "        hasil_pembagian[y, x] = [int(blue), int(green), int(red)]"
   ]
  },
  {
   "cell_type": "code",
   "execution_count": 11,
   "metadata": {},
   "outputs": [],
   "source": [
    "cv2.imshow(\"pengembalian citra dengan penjumlahan\", hasil_pembagian )\n",
    "cv2.waitKey(0)\n",
    "cv2.destroyAllWindows()"
   ]
  }
 ],
 "metadata": {
  "kernelspec": {
   "display_name": "Python 3",
   "language": "python",
   "name": "python3"
  },
  "language_info": {
   "codemirror_mode": {
    "name": "ipython",
    "version": 3
   },
   "file_extension": ".py",
   "mimetype": "text/x-python",
   "name": "python",
   "nbconvert_exporter": "python",
   "pygments_lexer": "ipython3",
   "version": "3.12.0"
  }
 },
 "nbformat": 4,
 "nbformat_minor": 2
}
