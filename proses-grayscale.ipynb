{
 "cells": [
  {
   "cell_type": "code",
   "execution_count": 2,
   "metadata": {},
   "outputs": [],
   "source": [
    "import cv2\n",
    "import numpy as np\n",
    "image1 = cv2.imread('Bahan-paprika.png')\n",
    "image2 = cv2.imread('Bahan-lena.jpg')"
   ]
  },
  {
   "cell_type": "code",
   "execution_count": 3,
   "metadata": {},
   "outputs": [],
   "source": [
    "gray_image1 = np.zeros_like(image1[:, :, 0])\n",
    "gray_image2 = np.zeros_like(image2[:, :, 0])"
   ]
  },
  {
   "cell_type": "code",
   "execution_count": 4,
   "metadata": {},
   "outputs": [],
   "source": [
    "gray_image3 = np.zeros_like(image1[:, :, 0])\n",
    "gray_image4 = np.zeros_like(image2[:, :, 0])"
   ]
  },
  {
   "cell_type": "code",
   "execution_count": 5,
   "metadata": {},
   "outputs": [],
   "source": [
    "height, width = image1.shape[:2]\n",
    "for y in range(height):\n",
    "    for x in range(width):\n",
    "        b, g, r = image1[y, x]\n",
    "        gray_intensity = 0.299 * r + 0.587 * g + 0.114 * b\n",
    "        gray_image1[y, x] = gray_intensity"
   ]
  },
  {
   "cell_type": "code",
   "execution_count": 6,
   "metadata": {},
   "outputs": [],
   "source": [
    "height, width = image2.shape[:2]\n",
    "for y in range(width):\n",
    "    for x in range(height):\n",
    "        b, g, r = image2[y, x]\n",
    "        gray_intensity = 0.299 * r + 0.587 * g + 0.114 * b\n",
    "        gray_image2[y, x] = gray_intensity\n"
   ]
  },
  {
   "cell_type": "code",
   "execution_count": 24,
   "metadata": {},
   "outputs": [],
   "source": [
    "#gracscale sederhana\n",
    "height, width = image1.shape[:2]\n",
    "for y in range(height):\n",
    "    for x in range(width):\n",
    "        b, g, r = image1[y, x].astype(np.float32)\n",
    "        gray_intensity = (r + g + b) // 3\n",
    "        if gray_intensity > 255:\n",
    "            gray_intensity = 255\n",
    "        elif gray_intensity < 0:\n",
    "            gray_intensity = 0\n",
    "            \n",
    "        gray_image3[y, x] = int(gray_intensity)\n"
   ]
  },
  {
   "cell_type": "code",
   "execution_count": 22,
   "metadata": {},
   "outputs": [],
   "source": [
    "#gracscale sederhana\n",
    "height, width = image2.shape[:2]\n",
    "for y in range(height):\n",
    "    for x in range(width):\n",
    "        b, g, r = image2[y, x].astype(np.float32)\n",
    "\n",
    "        gray_intensity = (b + g + r) // 3\n",
    "        \n",
    "        if gray_intensity > 255:\n",
    "            gray_intensity = 255\n",
    "        elif gray_intensity < 0:\n",
    "            gray_intensity = 0\n",
    "            \n",
    "        gray_image4[y, x] = int(gray_intensity)\n"
   ]
  },
  {
   "cell_type": "code",
   "execution_count": 30,
   "metadata": {},
   "outputs": [
    {
     "data": {
      "text/plain": [
       "True"
      ]
     },
     "execution_count": 30,
     "metadata": {},
     "output_type": "execute_result"
    }
   ],
   "source": [
    "# Display the grayscale image\n",
    "cv2.imshow(\"Grayscale Image\", gray_image1)\n",
    "cv2.waitKey(0)\n",
    "cv2.destroyAllWindows()\n",
    "cv2.imwrite('proses-grayscale1.jpg', gray_image1)"
   ]
  },
  {
   "cell_type": "code",
   "execution_count": 31,
   "metadata": {},
   "outputs": [
    {
     "data": {
      "text/plain": [
       "True"
      ]
     },
     "execution_count": 31,
     "metadata": {},
     "output_type": "execute_result"
    }
   ],
   "source": [
    "# Display the grayscale image\n",
    "cv2.imshow(\"Grayscale Image\", gray_image2)\n",
    "cv2.waitKey(0)\n",
    "cv2.destroyAllWindows()\n",
    "cv2.imwrite('proses-grayscale2.jpg', gray_image2)"
   ]
  },
  {
   "cell_type": "code",
   "execution_count": 25,
   "metadata": {},
   "outputs": [
    {
     "data": {
      "text/plain": [
       "True"
      ]
     },
     "execution_count": 25,
     "metadata": {},
     "output_type": "execute_result"
    }
   ],
   "source": [
    "# Display the grayscale image\n",
    "cv2.imshow(\"Grayscale Image\", gray_image3)\n",
    "cv2.waitKey(0)\n",
    "cv2.destroyAllWindows()\n",
    "cv2.imwrite('proses-grayscale3.jpg', gray_image3)"
   ]
  },
  {
   "cell_type": "code",
   "execution_count": 23,
   "metadata": {},
   "outputs": [
    {
     "name": "stderr",
     "output_type": "stream",
     "text": [
      "2024-09-18 14:24:40.552 Python[1717:79765] WARNING: Secure coding is not enabled for restorable state! Enable secure coding by implementing NSApplicationDelegate.applicationSupportsSecureRestorableState: and returning YES.\n"
     ]
    },
    {
     "data": {
      "text/plain": [
       "True"
      ]
     },
     "execution_count": 23,
     "metadata": {},
     "output_type": "execute_result"
    }
   ],
   "source": [
    "# Display the grayscale image\n",
    "cv2.imshow(\"Grayscale Image\", gray_image4)\n",
    "cv2.waitKey(1)\n",
    "cv2.destroyAllWindows()\n",
    "cv2.imwrite('proses-grayscale4.jpg', gray_image4)"
   ]
  }
 ],
 "metadata": {
  "kernelspec": {
   "display_name": "Python 3",
   "language": "python",
   "name": "python3"
  },
  "language_info": {
   "codemirror_mode": {
    "name": "ipython",
    "version": 3
   },
   "file_extension": ".py",
   "mimetype": "text/x-python",
   "name": "python",
   "nbconvert_exporter": "python",
   "pygments_lexer": "ipython3",
   "version": "3.12.0"
  }
 },
 "nbformat": 4,
 "nbformat_minor": 2
}
