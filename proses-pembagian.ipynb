{
 "cells": [
  {
   "cell_type": "code",
   "execution_count": 75,
   "metadata": {},
   "outputs": [],
   "source": [
    "import cv2\n",
    "import numpy as np\n",
    "image1 = cv2.imread('bahan-cups-one.png')\n",
    "image2 = cv2.imread('bahan-cups-three.png')"
   ]
  },
  {
   "cell_type": "code",
   "execution_count": 76,
   "metadata": {},
   "outputs": [],
   "source": [
    "hasil_proses_pembagian= np.zeros_like(image1)"
   ]
  },
  {
   "cell_type": "code",
   "execution_count": 79,
   "metadata": {},
   "outputs": [],
   "source": [
    "height, width, channels = image1.shape\n",
    "\n",
    "for y in range(height):\n",
    "    for x in range(width):\n",
    "\n",
    "        b1, g1, r1 = image1[y, x].astype(np.float32) / 255\n",
    "        b2, g2, r2 = image2[y, x].astype(np.float32) / 255\n",
    "\n",
    "        red = (r1 / r2)  if r2 != 0 else r1\n",
    "        green = (g1 / g2)  if g2 != 0 else g1\n",
    "        blue = (b1 / b2)  if b2 != 0 else b1\n",
    "\n",
    "        red = red * 255\n",
    "        green = green * 255\n",
    "        blue = blue * 255\n",
    "\n",
    "        if red > 255:\n",
    "            red = 255\n",
    "        elif red < 0:\n",
    "            red = 0\n",
    "                \n",
    "        if green > 255:\n",
    "            green = 255\n",
    "        elif green < 0:\n",
    "            green = 0\n",
    "                \n",
    "        if blue > 255:\n",
    "            blue = 255\n",
    "        elif blue < 0:\n",
    "            blue = 0\n",
    "        hasil_proses_pembagian[y, x] = [int(blue), int(green), int(red)]"
   ]
  },
  {
   "cell_type": "code",
   "execution_count": 80,
   "metadata": {},
   "outputs": [
    {
     "data": {
      "text/plain": [
       "True"
      ]
     },
     "execution_count": 80,
     "metadata": {},
     "output_type": "execute_result"
    },
    {
     "ename": "",
     "evalue": "",
     "output_type": "error",
     "traceback": [
      "\u001b[1;31mThe Kernel crashed while executing code in the current cell or a previous cell. \n",
      "\u001b[1;31mPlease review the code in the cell(s) to identify a possible cause of the failure. \n",
      "\u001b[1;31mClick <a href='https://aka.ms/vscodeJupyterKernelCrash'>here</a> for more info. \n",
      "\u001b[1;31mView Jupyter <a href='command:jupyter.viewOutput'>log</a> for further details."
     ]
    }
   ],
   "source": [
    "cv2.imshow(\"poses-pembagian-citra\", hasil_proses_pembagian )\n",
    "cv2.waitKey(0)\n",
    "cv2.destroyAllWindows()\n",
    "cv2.imwrite('proses-pembagian.jpg',hasil_proses_pembagian)\n"
   ]
  }
 ],
 "metadata": {
  "kernelspec": {
   "display_name": "Python 3",
   "language": "python",
   "name": "python3"
  },
  "language_info": {
   "codemirror_mode": {
    "name": "ipython",
    "version": 3
   },
   "file_extension": ".py",
   "mimetype": "text/x-python",
   "name": "python",
   "nbconvert_exporter": "python",
   "pygments_lexer": "ipython3",
   "version": "3.12.0"
  }
 },
 "nbformat": 4,
 "nbformat_minor": 2
}
