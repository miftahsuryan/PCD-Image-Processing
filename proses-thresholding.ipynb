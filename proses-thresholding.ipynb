{
 "cells": [
  {
   "cell_type": "code",
   "execution_count": 2,
   "metadata": {},
   "outputs": [],
   "source": [
    "import cv2\n",
    "import numpy as np\n",
    "image1 = cv2.imread('Bahan-paprika.png')\n",
    "image2 = cv2.imread('Bahan-lena.jpg')"
   ]
  },
  {
   "cell_type": "code",
   "execution_count": 3,
   "metadata": {},
   "outputs": [],
   "source": [
    "gray_image1 = np.zeros_like(image1[:, :, 0])\n",
    "gray_image2 = np.zeros_like(image2[:, :, 0])"
   ]
  },
  {
   "cell_type": "code",
   "execution_count": 4,
   "metadata": {},
   "outputs": [],
   "source": [
    "gray_threshold1 = np.zeros_like(image1[:, :, 0])\n",
    "gray_threshold2 = np.zeros_like(image2[:, :, 0])"
   ]
  },
  {
   "cell_type": "code",
   "execution_count": 5,
   "metadata": {},
   "outputs": [],
   "source": [
    "# Calculate the weighted average of RGB values to get grayscale intensity\n",
    "height, width = image1.shape[:2]\n",
    "for x in range(width):\n",
    "    for y in range(height):\n",
    "        r, g, b = image1[x, y]\n",
    "        gray_intensity = 0.299 * r + 0.587 * g + 0.114 * b\n",
    "        gray_image1[x, y] = gray_intensity"
   ]
  },
  {
   "cell_type": "code",
   "execution_count": 6,
   "metadata": {},
   "outputs": [],
   "source": [
    "height, width = image2.shape[:2]\n",
    "for x in range(width):\n",
    "    for y in range(height):\n",
    "        r, g, b = image2[x, y]\n",
    "        gray_intensity = 0.299 * r + 0.587 * g + 0.114 * b\n",
    "        gray_image2[x, y] = gray_intensity"
   ]
  },
  {
   "cell_type": "code",
   "execution_count": 7,
   "metadata": {},
   "outputs": [],
   "source": [
    "threshold_value = 128\n",
    "for y in range(height):\n",
    "    for x in range(width):\n",
    "        # Mengambil nilai grayscale dari piksel pada posisi (y, x)\n",
    "        pixel_value = gray_image1[y, x]\n",
    "        \n",
    "        # Terapkan thresholding\n",
    "        if pixel_value < threshold_value:\n",
    "            gray_threshold1[y, x] = 0\n",
    "        else:\n",
    "            gray_threshold1[y, x] = 255"
   ]
  },
  {
   "cell_type": "code",
   "execution_count": 12,
   "metadata": {},
   "outputs": [
    {
     "data": {
      "text/plain": [
       "True"
      ]
     },
     "execution_count": 12,
     "metadata": {},
     "output_type": "execute_result"
    }
   ],
   "source": [
    "# Display the grayscale image\n",
    "cv2.imshow(\"Gray thresholding Image\", gray_threshold1)\n",
    "cv2.waitKey(0)\n",
    "cv2.destroyAllWindows()\n",
    "cv2.imwrite('proses-thresholding1.jpg',gray_threshold1)"
   ]
  },
  {
   "cell_type": "code",
   "execution_count": 15,
   "metadata": {},
   "outputs": [],
   "source": [
    "threshold_value = 128\n",
    "for y in range(height):\n",
    "    for x in range(width):\n",
    "        # Mengambil nilai grayscale dari piksel pada posisi (y, x)\n",
    "        pixel_value = gray_image2[y, x]\n",
    "        \n",
    "        # Terapkan thresholding\n",
    "        if pixel_value < threshold_value:\n",
    "            gray_threshold2[y, x] = 0\n",
    "        else:\n",
    "            gray_threshold2[y, x] = 255"
   ]
  },
  {
   "cell_type": "code",
   "execution_count": 16,
   "metadata": {},
   "outputs": [
    {
     "data": {
      "text/plain": [
       "True"
      ]
     },
     "execution_count": 16,
     "metadata": {},
     "output_type": "execute_result"
    }
   ],
   "source": [
    "# Display the grayscale image\n",
    "cv2.imshow(\"Gray thresholding Image\", gray_threshold2)\n",
    "cv2.waitKey(0)\n",
    "cv2.destroyAllWindows()\n",
    "cv2.imwrite('proses-thresholding2.jpg',gray_threshold2)"
   ]
  }
 ],
 "metadata": {
  "kernelspec": {
   "display_name": "Python 3",
   "language": "python",
   "name": "python3"
  },
  "language_info": {
   "codemirror_mode": {
    "name": "ipython",
    "version": 3
   },
   "file_extension": ".py",
   "mimetype": "text/x-python",
   "name": "python",
   "nbconvert_exporter": "python",
   "pygments_lexer": "ipython3",
   "version": "3.12.0"
  }
 },
 "nbformat": 4,
 "nbformat_minor": 2
}
