{
 "cells": [
  {
   "cell_type": "code",
   "execution_count": 14,
   "metadata": {},
   "outputs": [],
   "source": [
    "import cv2\n",
    "import numpy as np\n",
    "image1 = cv2.imread('Bahan-random1.png')\n",
    "image2 = cv2.imread('Bahan-random2.png')"
   ]
  },
  {
   "cell_type": "code",
   "execution_count": 15,
   "metadata": {},
   "outputs": [],
   "source": [
    "hasil_proses_perkalian= np.zeros_like(image1)\n",
    "hasil_proses_perkalian_normalisasi= np.zeros_like(image1)\n",
    "hasil_proses_pembagian= np.zeros_like(image1)"
   ]
  },
  {
   "cell_type": "code",
   "execution_count": 4,
   "metadata": {},
   "outputs": [],
   "source": [
    "height, width, channels = image1.shape\n",
    "height2, width2, channels2 = image2.shape\n",
    "for y in range(height):\n",
    "    for x in range(width):\n",
    "\n",
    "        b1, g1, r1 = image1[y, x].astype(np.int32)\n",
    "        b2, g2, r2 = image2[y, x].astype(np.int32)\n",
    "        \n",
    "        red = r1 * r2\n",
    "        green = g1 * g2\n",
    "        blue = b1 * b2\n",
    "            \n",
    "        if red > 255:\n",
    "            red = 255\n",
    "        elif red < 0:\n",
    "            red = 0\n",
    "                \n",
    "        if green > 255:\n",
    "            green = 255\n",
    "        elif green < 0:\n",
    "            green = 0\n",
    "                \n",
    "        if blue > 255:\n",
    "            blue = 255\n",
    "        elif blue < 0:\n",
    "            blue = 0\n",
    "        hasil_proses_perkalian[y, x] = [blue, green, red]"
   ]
  },
  {
   "cell_type": "code",
   "execution_count": 6,
   "metadata": {},
   "outputs": [
    {
     "data": {
      "text/plain": [
       "True"
      ]
     },
     "execution_count": 6,
     "metadata": {},
     "output_type": "execute_result"
    }
   ],
   "source": [
    "cv2.imshow(\"Penjumlahan Citra\", hasil_proses_perkalian )\n",
    "cv2.waitKey(0)\n",
    "cv2.destroyAllWindows()\n",
    "cv2.imwrite('proses-aritmetika-perkalian.jpg', hasil_proses_perkalian)"
   ]
  },
  {
   "cell_type": "code",
   "execution_count": 21,
   "metadata": {},
   "outputs": [],
   "source": [
    "height, width, channels = image1.shape\n",
    "height2, width2, channels2 = image2.shape\n",
    "for y in range(height):\n",
    "    for x in range(width):\n",
    "        b1, g1, r1 = image1[y, x].astype(np.float32) / 255.0\n",
    "        b2, g2, r2 = image2[y, x].astype(np.float32) / 255.0\n",
    "        \n",
    "        red = r1 * r2 \n",
    "        green = g1 * g2 \n",
    "        blue = b1 * b2 \n",
    "        \n",
    "        red = red * 255\n",
    "        green = green * 255\n",
    "        blue = blue * 255\n",
    "          \n",
    "        if red > 255:\n",
    "            red = 255\n",
    "        elif red < 0:\n",
    "            red = 0\n",
    "                \n",
    "        if green > 255:\n",
    "            green = 255\n",
    "        elif green < 0:\n",
    "            green = 0\n",
    "                \n",
    "        if blue > 255:\n",
    "            blue = 255\n",
    "        elif blue < 0:\n",
    "            blue = 0\n",
    "        hasil_proses_perkalian_normalisasi[y, x] = [int(blue), int(green), int(red)]"
   ]
  },
  {
   "cell_type": "code",
   "execution_count": 22,
   "metadata": {},
   "outputs": [
    {
     "data": {
      "text/plain": [
       "True"
      ]
     },
     "execution_count": 22,
     "metadata": {},
     "output_type": "execute_result"
    }
   ],
   "source": [
    "cv2.imshow(\"Penjumlahan Citra\", hasil_proses_perkalian_normalisasi )\n",
    "cv2.waitKey(0)\n",
    "cv2.destroyAllWindows()\n",
    "cv2.imwrite('proses-aritmetika-perkalian.jpg', hasil_proses_perkalian_normalisasi)"
   ]
  }
 ],
 "metadata": {
  "kernelspec": {
   "display_name": "Python 3",
   "language": "python",
   "name": "python3"
  },
  "language_info": {
   "codemirror_mode": {
    "name": "ipython",
    "version": 3
   },
   "file_extension": ".py",
   "mimetype": "text/x-python",
   "name": "python",
   "nbconvert_exporter": "python",
   "pygments_lexer": "ipython3",
   "version": "3.12.0"
  }
 },
 "nbformat": 4,
 "nbformat_minor": 2
}
