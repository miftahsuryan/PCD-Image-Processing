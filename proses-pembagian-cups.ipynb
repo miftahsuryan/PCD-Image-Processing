{
 "cells": [
  {
   "cell_type": "code",
   "execution_count": 24,
   "metadata": {},
   "outputs": [],
   "source": [
    "import cv2\n",
    "import numpy as np\n",
    "image1 = cv2.imread('Bahan-cups-one.png')\n",
    "image2 = cv2.imread('Bahan-cups-three.png')"
   ]
  },
  {
   "cell_type": "code",
   "execution_count": 25,
   "metadata": {},
   "outputs": [],
   "source": [
    "hasil_proses_pembagian= np.zeros_like(image1)"
   ]
  },
  {
   "cell_type": "code",
   "execution_count": 26,
   "metadata": {},
   "outputs": [],
   "source": [
    "height, width, channels = image1.shape\n",
    "for y in range(height):\n",
    "    for x in range(width):\n",
    "        for c in range(channels):\n",
    "            pixel1 = image1[y, x, c]\n",
    "            pixel2 = image2[y, x, c]\n",
    "                \n",
    "            if pixel2 == 0:\n",
    "                result_pixel = 128  \n",
    "            else:\n",
    "                oldnorm1 = pixel1 / 255.0 # pixel max\n",
    "                oldnorm2 = pixel2 / 255.0 # pixel max\n",
    "                result_pixel = (oldnorm1 / oldnorm2) * 255\n",
    "            \n",
    "            if result_pixel > 255 :\n",
    "                result_pixel = 255\n",
    "            elif result_pixel < 0 :\n",
    "                result_pixel = 0\n",
    "\n",
    "            hasil_proses_pembagian [y,x,c]= int(result_pixel)\n",
    "        "
   ]
  },
  {
   "cell_type": "code",
   "execution_count": 27,
   "metadata": {},
   "outputs": [],
   "source": [
    "cv2.imshow(\"pembagian citra\", hasil_proses_pembagian )\n",
    "cv2.waitKey(0)\n",
    "cv2.destroyAllWindows()\n"
   ]
  }
 ],
 "metadata": {
  "kernelspec": {
   "display_name": "Python 3",
   "language": "python",
   "name": "python3"
  },
  "language_info": {
   "codemirror_mode": {
    "name": "ipython",
    "version": 3
   },
   "file_extension": ".py",
   "mimetype": "text/x-python",
   "name": "python",
   "nbconvert_exporter": "python",
   "pygments_lexer": "ipython3",
   "version": "3.12.0"
  }
 },
 "nbformat": 4,
 "nbformat_minor": 2
}
